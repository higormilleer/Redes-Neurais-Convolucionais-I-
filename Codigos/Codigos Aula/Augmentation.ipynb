{
 "cells": [
  {
   "cell_type": "code",
   "execution_count": 3,
   "id": "f07cae58-15f0-4a48-affc-d884223992ce",
   "metadata": {},
   "outputs": [],
   "source": [
    "#tecnica de aumentoda qtd de imagens(quando tem poucas imagens)\n",
    "import keras\n",
    "import tensorflow as tf"
   ]
  },
  {
   "cell_type": "code",
   "execution_count": 25,
   "id": "007b3f77-174b-4359-926b-9d9f2db9d68a",
   "metadata": {},
   "outputs": [],
   "source": [
    "from tensorflow.keras.datasets import mnist\n",
    "from tensorflow.keras.models import Sequential\n",
    "from tensorflow.keras.layers import InputLayer, Dense, Flatten, Dropout, Conv2D, MaxPooling2D, BatchNormalization\n",
    "from tensorflow.keras import utils as np_utils\n",
    "from tensorflow.keras.preprocessing.image import ImageDataGenerator"
   ]
  },
  {
   "cell_type": "code",
   "execution_count": 27,
   "id": "060c6127-1938-474b-9716-bc38954248d8",
   "metadata": {},
   "outputs": [],
   "source": [
    "(x_train, y_train), (x_test, y_test) = mnist.load_data() #importando o set"
   ]
  },
  {
   "cell_type": "code",
   "execution_count": 29,
   "id": "628b65b7-ae12-4b1e-b10f-cbbb2c84936d",
   "metadata": {},
   "outputs": [],
   "source": [
    "x_train = x_train.reshape(x_train.shape[0], 28, 28, 1)\n",
    "x_test = x_test.reshape(x_test.shape[0], 28, 28, 1)\n",
    "x_test = x_test.astype(\"float32\")\n",
    "x_train = x_train.astype(\"float32\") \n",
    "x_train /= 255\n",
    "y_train = np_utils.to_categorical(y_train, 10)\n",
    "y_test = np_utils.to_categorical(y_test, 10)\n"
   ]
  },
  {
   "cell_type": "code",
   "execution_count": 33,
   "id": "f39fe012-453e-41d7-8e8d-c67cfdc23e3e",
   "metadata": {},
   "outputs": [],
   "source": [
    "\n",
    "classificador = Sequential()\n",
    "classificador.add(InputLayer(shape=(28, 28, 1)))\n",
    "classificador.add(Conv2D(32, (3, 3), activation='relu'))\n",
    "classificador.add(MaxPooling2D(pool_size=(2, 2)))\n",
    "classificador.add(Flatten())\n",
    "classificador.add(Dense(units=128, activation='relu'))\n",
    "classificador.add(Dense(units=10, activation='softmax'))\n",
    "classificador.compile(loss='categorical_crossentropy', optimizer='adam', metrics=['accuracy'])"
   ]
  },
  {
   "cell_type": "code",
   "execution_count": 41,
   "id": "f55d8221-5141-4505-96ab-a68a84ec2e44",
   "metadata": {},
   "outputs": [],
   "source": [
    "train_generator = ImageDataGenerator(rotation_range=7, horizontal_flip=True, shear_range=0.2, height_shift_range=0.07,zoom_range=0.2 )"
   ]
  },
  {
   "cell_type": "code",
   "execution_count": 49,
   "id": "0a8129a6-e925-49be-8640-07ba4a3b04e2",
   "metadata": {},
   "outputs": [],
   "source": [
    "test_generator = ImageDataGenerator()"
   ]
  },
  {
   "cell_type": "code",
   "execution_count": 51,
   "id": "340e5480-382e-49f0-8153-945e4f28d2be",
   "metadata": {},
   "outputs": [],
   "source": [
    "base_train = train_generator.flow(x_train, y_train, batch_size = 128)"
   ]
  },
  {
   "cell_type": "code",
   "execution_count": 53,
   "id": "b6b2095f-60f5-4fd1-8b9d-5a5cdd76e11e",
   "metadata": {},
   "outputs": [],
   "source": [
    "base_test = generator_test.flow(x_test, y_test, batch_size = 128)"
   ]
  },
  {
   "cell_type": "code",
   "execution_count": 58,
   "id": "649ce227-4ab5-4243-a8d6-84d9bd35dc87",
   "metadata": {},
   "outputs": [
    {
     "name": "stdout",
     "output_type": "stream",
     "text": [
      "Epoch 1/5\n",
      "\u001b[1m469/469\u001b[0m \u001b[32m━━━━━━━━━━━━━━━━━━━━\u001b[0m\u001b[37m\u001b[0m \u001b[1m7s\u001b[0m 16ms/step - accuracy: 0.9625 - loss: 0.1193 - val_accuracy: 0.7516 - val_loss: 303.5599\n",
      "Epoch 2/5\n",
      "\u001b[1m469/469\u001b[0m \u001b[32m━━━━━━━━━━━━━━━━━━━━\u001b[0m\u001b[37m\u001b[0m \u001b[1m7s\u001b[0m 15ms/step - accuracy: 0.9667 - loss: 0.1066 - val_accuracy: 0.7940 - val_loss: 234.6591\n",
      "Epoch 3/5\n",
      "\u001b[1m469/469\u001b[0m \u001b[32m━━━━━━━━━━━━━━━━━━━━\u001b[0m\u001b[37m\u001b[0m \u001b[1m7s\u001b[0m 15ms/step - accuracy: 0.9690 - loss: 0.0984 - val_accuracy: 0.7899 - val_loss: 207.8374\n",
      "Epoch 4/5\n",
      "\u001b[1m469/469\u001b[0m \u001b[32m━━━━━━━━━━━━━━━━━━━━\u001b[0m\u001b[37m\u001b[0m \u001b[1m7s\u001b[0m 15ms/step - accuracy: 0.9694 - loss: 0.0962 - val_accuracy: 0.7573 - val_loss: 368.1625\n",
      "Epoch 5/5\n",
      "\u001b[1m469/469\u001b[0m \u001b[32m━━━━━━━━━━━━━━━━━━━━\u001b[0m\u001b[37m\u001b[0m \u001b[1m7s\u001b[0m 16ms/step - accuracy: 0.9724 - loss: 0.0851 - val_accuracy: 0.7302 - val_loss: 364.7837\n"
     ]
    },
    {
     "data": {
      "text/plain": [
       "<keras.src.callbacks.history.History at 0x31738c050>"
      ]
     },
     "execution_count": 58,
     "metadata": {},
     "output_type": "execute_result"
    }
   ],
   "source": [
    "classificador.fit(base_train, epochs=5, validation_data=base_test)"
   ]
  },
  {
   "cell_type": "code",
   "execution_count": null,
   "id": "10774bc3-a7a3-4b24-973e-c881a2cd81e9",
   "metadata": {},
   "outputs": [],
   "source": []
  }
 ],
 "metadata": {
  "kernelspec": {
   "display_name": "Python [conda env:base] *",
   "language": "python",
   "name": "conda-base-py"
  },
  "language_info": {
   "codemirror_mode": {
    "name": "ipython",
    "version": 3
   },
   "file_extension": ".py",
   "mimetype": "text/x-python",
   "name": "python",
   "nbconvert_exporter": "python",
   "pygments_lexer": "ipython3",
   "version": "3.12.7"
  }
 },
 "nbformat": 4,
 "nbformat_minor": 5
}
