{
 "cells": [
  {
   "cell_type": "code",
   "execution_count": 4,
   "id": "eec25b16-7261-49b7-b56f-1323d767acd2",
   "metadata": {},
   "outputs": [],
   "source": [
    "import numpy as np \n",
    "import tensorflow as tf\n",
    "import keras\n",
    "import matplotlib"
   ]
  },
  {
   "cell_type": "code",
   "execution_count": 11,
   "id": "fe441c3f-c8e7-4d0a-8086-78b4686bd1ad",
   "metadata": {},
   "outputs": [],
   "source": [
    "from tensorflow.keras.datasets import mnist\n",
    "from tensorflow.keras.models import Sequential\n",
    "from tensorflow.keras.layers import InputLayer, Dense, Flatten, Dropout, Conv2D, MaxPooling2D\n",
    "from tensorflow.keras import utils as np_utils\n",
    "import numpy as np\n",
    "from sklearn.model_selection import StratifiedKFold"
   ]
  },
  {
   "cell_type": "code",
   "execution_count": 17,
   "id": "a41587e7-b10f-4995-872d-3943d84dccc8",
   "metadata": {},
   "outputs": [],
   "source": [
    "(x,y), (x_test, y_test) = mnist.load_data()\n",
    "x=x.reshape(x.shape[0],28,28,1)\n",
    "x=x.astype(\"float32\")\n",
    "x/=255\n",
    "y = np_utils.to_categorical(y,10)"
   ]
  },
  {
   "cell_type": "code",
   "execution_count": 31,
   "id": "69006e9c-3468-49d8-897b-e96db8580e5f",
   "metadata": {},
   "outputs": [],
   "source": [
    "seed = 5\n",
    "np.random.seed(seed)"
   ]
  },
  {
   "cell_type": "code",
   "execution_count": 35,
   "id": "6f994f5b-3636-4a1e-90fc-49d3088e3096",
   "metadata": {},
   "outputs": [],
   "source": [
    "kfold = StratifiedKFold(n_splits = 5, shuffle = True, random_state = seed) #como cv, divisao de partes, dados embaralhados para nao acostumar a rede neural"
   ]
  },
  {
   "cell_type": "code",
   "execution_count": 45,
   "id": "25290465-f548-4aef-b5e6-1e3488a6c87a",
   "metadata": {},
   "outputs": [
    {
     "name": "stdout",
     "output_type": "stream",
     "text": [
      "Indices Train:  [    0     1     2 ... 59997 59998 59999] Indice Test:  [    5     7    10 ... 59983 59985 59993]\n"
     ]
    },
    {
     "name": "stderr",
     "output_type": "stream",
     "text": [
      "/opt/anaconda3/lib/python3.12/site-packages/keras/src/layers/core/input_layer.py:27: UserWarning: Argument `input_shape` is deprecated. Use `shape` instead.\n",
      "  warnings.warn(\n"
     ]
    },
    {
     "name": "stdout",
     "output_type": "stream",
     "text": [
      "Epoch 1/5\n",
      "\u001b[1m375/375\u001b[0m \u001b[32m━━━━━━━━━━━━━━━━━━━━\u001b[0m\u001b[37m\u001b[0m \u001b[1m5s\u001b[0m 11ms/step - accuracy: 0.8670 - loss: 0.4996\n",
      "Epoch 2/5\n",
      "\u001b[1m375/375\u001b[0m \u001b[32m━━━━━━━━━━━━━━━━━━━━\u001b[0m\u001b[37m\u001b[0m \u001b[1m5s\u001b[0m 13ms/step - accuracy: 0.9748 - loss: 0.0889\n",
      "Epoch 3/5\n",
      "\u001b[1m375/375\u001b[0m \u001b[32m━━━━━━━━━━━━━━━━━━━━\u001b[0m\u001b[37m\u001b[0m \u001b[1m5s\u001b[0m 14ms/step - accuracy: 0.9839 - loss: 0.0569\n",
      "Epoch 4/5\n",
      "\u001b[1m375/375\u001b[0m \u001b[32m━━━━━━━━━━━━━━━━━━━━\u001b[0m\u001b[37m\u001b[0m \u001b[1m5s\u001b[0m 13ms/step - accuracy: 0.9881 - loss: 0.0405\n",
      "Epoch 5/5\n",
      "\u001b[1m375/375\u001b[0m \u001b[32m━━━━━━━━━━━━━━━━━━━━\u001b[0m\u001b[37m\u001b[0m \u001b[1m5s\u001b[0m 13ms/step - accuracy: 0.9912 - loss: 0.0292\n",
      "Precisão no Fold: 0.9794166684150696\n",
      "Indices Train:  [    1     2     5 ... 59995 59996 59999] Indice Test:  [    0     3     4 ... 59989 59997 59998]\n",
      "Epoch 1/5\n",
      "\u001b[1m375/375\u001b[0m \u001b[32m━━━━━━━━━━━━━━━━━━━━\u001b[0m\u001b[37m\u001b[0m \u001b[1m5s\u001b[0m 14ms/step - accuracy: 0.8597 - loss: 0.4946\n",
      "Epoch 2/5\n",
      "\u001b[1m375/375\u001b[0m \u001b[32m━━━━━━━━━━━━━━━━━━━━\u001b[0m\u001b[37m\u001b[0m \u001b[1m5s\u001b[0m 13ms/step - accuracy: 0.9741 - loss: 0.0885\n",
      "Epoch 3/5\n",
      "\u001b[1m375/375\u001b[0m \u001b[32m━━━━━━━━━━━━━━━━━━━━\u001b[0m\u001b[37m\u001b[0m \u001b[1m4s\u001b[0m 11ms/step - accuracy: 0.9849 - loss: 0.0529\n",
      "Epoch 4/5\n",
      "\u001b[1m375/375\u001b[0m \u001b[32m━━━━━━━━━━━━━━━━━━━━\u001b[0m\u001b[37m\u001b[0m \u001b[1m4s\u001b[0m 12ms/step - accuracy: 0.9900 - loss: 0.0369\n",
      "Epoch 5/5\n",
      "\u001b[1m375/375\u001b[0m \u001b[32m━━━━━━━━━━━━━━━━━━━━\u001b[0m\u001b[37m\u001b[0m \u001b[1m5s\u001b[0m 13ms/step - accuracy: 0.9922 - loss: 0.0274\n",
      "Precisão no Fold: 0.9834166765213013\n",
      "Indices Train:  [    0     1     3 ... 59996 59997 59998] Indice Test:  [    2    27    33 ... 59991 59995 59999]\n",
      "Epoch 1/5\n",
      "\u001b[1m375/375\u001b[0m \u001b[32m━━━━━━━━━━━━━━━━━━━━\u001b[0m\u001b[37m\u001b[0m \u001b[1m5s\u001b[0m 13ms/step - accuracy: 0.8523 - loss: 0.5084\n",
      "Epoch 2/5\n",
      "\u001b[1m375/375\u001b[0m \u001b[32m━━━━━━━━━━━━━━━━━━━━\u001b[0m\u001b[37m\u001b[0m \u001b[1m5s\u001b[0m 13ms/step - accuracy: 0.9738 - loss: 0.0883\n",
      "Epoch 3/5\n",
      "\u001b[1m375/375\u001b[0m \u001b[32m━━━━━━━━━━━━━━━━━━━━\u001b[0m\u001b[37m\u001b[0m \u001b[1m5s\u001b[0m 13ms/step - accuracy: 0.9845 - loss: 0.0550\n",
      "Epoch 4/5\n",
      "\u001b[1m375/375\u001b[0m \u001b[32m━━━━━━━━━━━━━━━━━━━━\u001b[0m\u001b[37m\u001b[0m \u001b[1m5s\u001b[0m 13ms/step - accuracy: 0.9891 - loss: 0.0375\n",
      "Epoch 5/5\n",
      "\u001b[1m375/375\u001b[0m \u001b[32m━━━━━━━━━━━━━━━━━━━━\u001b[0m\u001b[37m\u001b[0m \u001b[1m5s\u001b[0m 13ms/step - accuracy: 0.9914 - loss: 0.0290\n",
      "Precisão no Fold: 0.9851666688919067\n",
      "Indices Train:  [    0     2     3 ... 59997 59998 59999] Indice Test:  [    1     6     9 ... 59967 59975 59977]\n",
      "Epoch 1/5\n",
      "\u001b[1m375/375\u001b[0m \u001b[32m━━━━━━━━━━━━━━━━━━━━\u001b[0m\u001b[37m\u001b[0m \u001b[1m5s\u001b[0m 13ms/step - accuracy: 0.8557 - loss: 0.5147\n",
      "Epoch 2/5\n",
      "\u001b[1m375/375\u001b[0m \u001b[32m━━━━━━━━━━━━━━━━━━━━\u001b[0m\u001b[37m\u001b[0m \u001b[1m5s\u001b[0m 13ms/step - accuracy: 0.9751 - loss: 0.0877\n",
      "Epoch 3/5\n",
      "\u001b[1m375/375\u001b[0m \u001b[32m━━━━━━━━━━━━━━━━━━━━\u001b[0m\u001b[37m\u001b[0m \u001b[1m5s\u001b[0m 12ms/step - accuracy: 0.9845 - loss: 0.0552\n",
      "Epoch 4/5\n",
      "\u001b[1m375/375\u001b[0m \u001b[32m━━━━━━━━━━━━━━━━━━━━\u001b[0m\u001b[37m\u001b[0m \u001b[1m5s\u001b[0m 14ms/step - accuracy: 0.9891 - loss: 0.0374\n",
      "Epoch 5/5\n",
      "\u001b[1m375/375\u001b[0m \u001b[32m━━━━━━━━━━━━━━━━━━━━\u001b[0m\u001b[37m\u001b[0m \u001b[1m5s\u001b[0m 13ms/step - accuracy: 0.9921 - loss: 0.0283\n",
      "Precisão no Fold: 0.9830833077430725\n",
      "Indices Train:  [    0     1     2 ... 59997 59998 59999] Indice Test:  [   12    16    53 ... 59992 59994 59996]\n",
      "Epoch 1/5\n",
      "\u001b[1m375/375\u001b[0m \u001b[32m━━━━━━━━━━━━━━━━━━━━\u001b[0m\u001b[37m\u001b[0m \u001b[1m6s\u001b[0m 14ms/step - accuracy: 0.8693 - loss: 0.4795\n",
      "Epoch 2/5\n",
      "\u001b[1m375/375\u001b[0m \u001b[32m━━━━━━━━━━━━━━━━━━━━\u001b[0m\u001b[37m\u001b[0m \u001b[1m6s\u001b[0m 15ms/step - accuracy: 0.9758 - loss: 0.0819\n",
      "Epoch 3/5\n",
      "\u001b[1m375/375\u001b[0m \u001b[32m━━━━━━━━━━━━━━━━━━━━\u001b[0m\u001b[37m\u001b[0m \u001b[1m5s\u001b[0m 13ms/step - accuracy: 0.9840 - loss: 0.0525\n",
      "Epoch 4/5\n",
      "\u001b[1m375/375\u001b[0m \u001b[32m━━━━━━━━━━━━━━━━━━━━\u001b[0m\u001b[37m\u001b[0m \u001b[1m5s\u001b[0m 14ms/step - accuracy: 0.9880 - loss: 0.0391\n",
      "Epoch 5/5\n",
      "\u001b[1m375/375\u001b[0m \u001b[32m━━━━━━━━━━━━━━━━━━━━\u001b[0m\u001b[37m\u001b[0m \u001b[1m6s\u001b[0m 16ms/step - accuracy: 0.9906 - loss: 0.0320\n",
      "Precisão no Fold: 0.984000027179718\n"
     ]
    }
   ],
   "source": [
    "resultados = []\n",
    "for indice_train, indice_test in kfold.split(x, np.zeros(shape=(y.shape[0], 1))): #formato de matriz\n",
    "    print(\"Indices Train: \", indice_train, \"Indice Test: \", indice_test)#qual dados vamos utilizar para treinar(primeiro indice) e fazer o teste(segundo indice)\n",
    "    classificador = Sequential()\n",
    "    classificador.add(InputLayer(input_shape=(28, 28, 1)))\n",
    "    classificador.add(Conv2D(32, (3, 3), activation='relu'))\n",
    "    classificador.add(MaxPooling2D(pool_size=(2, 2)))\n",
    "    classificador.add(Flatten())\n",
    "    classificador.add(Dense(units=128, activation='relu'))\n",
    "    classificador.add(Dense(units=10, activation='softmax'))\n",
    "    classificador.compile(loss='categorical_crossentropy', optimizer='adam', metrics=['accuracy'])\n",
    "    classificador.fit(x[indice_train], y[indice_train], batch_size=128, epochs=5, verbose=1)\n",
    "    precisao = classificador.evaluate(x[indice_test], y[indice_test], verbose=0)\n",
    "    print(f\"Precisão no Fold: {precisao[1]}\") #avaliacao\n",
    "    resultados.append(precisao[1]) #salvando resultado"
   ]
  },
  {
   "cell_type": "code",
   "execution_count": 46,
   "id": "2bf8979f-fc86-4763-8f9b-92d66b9b10e4",
   "metadata": {},
   "outputs": [
    {
     "data": {
      "text/plain": [
       "0.9830166697502136"
      ]
     },
     "execution_count": 46,
     "metadata": {},
     "output_type": "execute_result"
    }
   ],
   "source": [
    "np.array(resultados).mean()"
   ]
  },
  {
   "cell_type": "code",
   "execution_count": 47,
   "id": "ce3986c4-b588-4048-a716-ed6cca901878",
   "metadata": {},
   "outputs": [
    {
     "data": {
      "text/plain": [
       "0.001934628842723572"
      ]
     },
     "execution_count": 47,
     "metadata": {},
     "output_type": "execute_result"
    }
   ],
   "source": [
    "np.array(resultados).std() #desvio padrao baixo = confiavel"
   ]
  },
  {
   "cell_type": "code",
   "execution_count": 51,
   "id": "8bf8bcee-45a1-4333-aa4f-cdf8acb36d9c",
   "metadata": {},
   "outputs": [
    {
     "data": {
      "text/plain": [
       "[0.9794166684150696,\n",
       " 0.9834166765213013,\n",
       " 0.9851666688919067,\n",
       " 0.9830833077430725,\n",
       " 0.984000027179718]"
      ]
     },
     "execution_count": 51,
     "metadata": {},
     "output_type": "execute_result"
    }
   ],
   "source": [
    "resultados"
   ]
  }
 ],
 "metadata": {
  "kernelspec": {
   "display_name": "Python [conda env:base] *",
   "language": "python",
   "name": "conda-base-py"
  },
  "language_info": {
   "codemirror_mode": {
    "name": "ipython",
    "version": 3
   },
   "file_extension": ".py",
   "mimetype": "text/x-python",
   "name": "python",
   "nbconvert_exporter": "python",
   "pygments_lexer": "ipython3",
   "version": "3.12.7"
  }
 },
 "nbformat": 4,
 "nbformat_minor": 5
}
