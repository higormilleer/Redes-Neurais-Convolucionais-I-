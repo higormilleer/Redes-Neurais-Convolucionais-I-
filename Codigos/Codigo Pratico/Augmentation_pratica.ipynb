{
 "cells": [
  {
   "cell_type": "code",
   "execution_count": 16,
   "id": "b3b08806-959a-4060-b19d-cb1aed24a14d",
   "metadata": {},
   "outputs": [],
   "source": [
    "#tecnica de aumentoda qtd de imagens(quando tem poucas imagens)\n",
    "import keras\n",
    "import tensorflow as tf\n",
    "from tensorflow.keras.datasets import mnist\n",
    "from tensorflow.keras.models import Sequential\n",
    "from tensorflow.keras.layers import InputLayer, Dense, Flatten, Dropout, Conv2D, MaxPooling2D, BatchNormalization\n",
    "from tensorflow.keras import utils as np_utils\n",
    "from tensorflow.keras.preprocessing.image import ImageDataGenerator\n",
    "from tensorflow.keras.optimizers import SGD\n"
   ]
  },
  {
   "cell_type": "code",
   "execution_count": 18,
   "id": "ed6b88fc-fc80-44fc-9501-0755cad40aca",
   "metadata": {},
   "outputs": [],
   "source": [
    "(x_train, y_train), (x_test, y_test) = mnist.load_data() #importando o set"
   ]
  },
  {
   "cell_type": "code",
   "execution_count": 19,
   "id": "3dcf5b32-19a7-4183-903f-4c2d113ed59f",
   "metadata": {},
   "outputs": [],
   "source": [
    "x_train = x_train.reshape(x_train.shape[0], 28, 28, 1)\n",
    "x_test = x_test.reshape(x_test.shape[0], 28, 28, 1)\n",
    "x_test = x_test.astype(\"float32\")\n",
    "x_train = x_train.astype(\"float32\") \n",
    "x_train /= 255\n",
    "y_train = np_utils.to_categorical(y_train, 10)\n",
    "y_test = np_utils.to_categorical(y_test, 10)\n"
   ]
  },
  {
   "cell_type": "code",
   "execution_count": 22,
   "id": "b329f3ca-8dd4-4271-9535-9623d223f753",
   "metadata": {},
   "outputs": [],
   "source": [
    "classificador = Sequential()\n",
    "\n",
    "# Camada de entrada\n",
    "classificador.add(InputLayer(input_shape=(28, 28, 1)))\n",
    "\n",
    "# Primeira camada convolucional\n",
    "classificador.add(Conv2D(32, (3, 3), activation='relu', padding='same'))\n",
    "classificador.add(MaxPooling2D(pool_size=(2, 2)))\n",
    "\n",
    "# Segunda camada convolucional\n",
    "classificador.add(Conv2D(64, (3, 3), activation='relu', padding='same'))\n",
    "classificador.add(MaxPooling2D(pool_size=(2, 2)))\n",
    "\n",
    "# Terceira camada convolucional\n",
    "classificador.add(Conv2D(128, (3, 3), activation='relu', padding='same'))\n",
    "classificador.add(MaxPooling2D(pool_size=(2, 2)))\n",
    "\n",
    "# Flatten (Achatar a saída da última camada convolucional)\n",
    "classificador.add(Flatten())\n",
    "\n",
    "# Camada densa com Dropout para prevenir overfitting\n",
    "classificador.add(Dense(units=128, activation='relu'))\n",
    "classificador.add(Dropout(0.5))\n",
    "\n",
    "# Camada de saída\n",
    "classificador.add(Dense(units=10, activation='softmax'))\n",
    "classificador.compile(\n",
    "    loss='categorical_crossentropy', \n",
    "    optimizer=SGD(learning_rate=0.01),  # Usando SGD com uma taxa de aprendizado diferente\n",
    "    metrics=['accuracy']\n",
    ")"
   ]
  },
  {
   "cell_type": "code",
   "execution_count": 24,
   "id": "a61bcf59-eda4-4236-bff0-772010eb7610",
   "metadata": {},
   "outputs": [],
   "source": [
    "train_generator = ImageDataGenerator(rotation_range=7, horizontal_flip=True, shear_range=0.2, height_shift_range=0.07,zoom_range=0.2 )"
   ]
  },
  {
   "cell_type": "code",
   "execution_count": 26,
   "id": "374d5509-91a5-45c9-8f59-e6e0b4094e30",
   "metadata": {},
   "outputs": [],
   "source": [
    "test_generator = ImageDataGenerator()"
   ]
  },
  {
   "cell_type": "code",
   "execution_count": 28,
   "id": "14afe4f2-2a4d-4f21-b538-4b240547ef40",
   "metadata": {},
   "outputs": [],
   "source": [
    "base_train = train_generator.flow(x_train, y_train, batch_size = 128)"
   ]
  },
  {
   "cell_type": "code",
   "execution_count": 32,
   "id": "b8dcf419-c8ae-46a3-bbf4-bdc8c76ed4fc",
   "metadata": {},
   "outputs": [],
   "source": [
    "base_test = test_generator.flow(x_test, y_test, batch_size = 128)"
   ]
  },
  {
   "cell_type": "code",
   "execution_count": 34,
   "id": "117e1441-bff0-4eca-8de2-e64d4515de5a",
   "metadata": {},
   "outputs": [
    {
     "name": "stdout",
     "output_type": "stream",
     "text": [
      "Epoch 1/5\n"
     ]
    },
    {
     "name": "stderr",
     "output_type": "stream",
     "text": [
      "/opt/anaconda3/lib/python3.12/site-packages/keras/src/trainers/data_adapters/py_dataset_adapter.py:121: UserWarning: Your `PyDataset` class should call `super().__init__(**kwargs)` in its constructor. `**kwargs` can include `workers`, `use_multiprocessing`, `max_queue_size`. Do not pass these arguments to `fit()`, as they will be ignored.\n",
      "  self._warn_if_super_not_called()\n"
     ]
    },
    {
     "name": "stdout",
     "output_type": "stream",
     "text": [
      "\u001b[1m469/469\u001b[0m \u001b[32m━━━━━━━━━━━━━━━━━━━━\u001b[0m\u001b[37m\u001b[0m \u001b[1m0s\u001b[0m 37ms/step - accuracy: 0.2293 - loss: 2.2403"
     ]
    },
    {
     "name": "stderr",
     "output_type": "stream",
     "text": [
      "/opt/anaconda3/lib/python3.12/site-packages/keras/src/trainers/data_adapters/py_dataset_adapter.py:121: UserWarning: Your `PyDataset` class should call `super().__init__(**kwargs)` in its constructor. `**kwargs` can include `workers`, `use_multiprocessing`, `max_queue_size`. Do not pass these arguments to `fit()`, as they will be ignored.\n",
      "  self._warn_if_super_not_called()\n"
     ]
    },
    {
     "name": "stdout",
     "output_type": "stream",
     "text": [
      "\u001b[1m469/469\u001b[0m \u001b[32m━━━━━━━━━━━━━━━━━━━━\u001b[0m\u001b[37m\u001b[0m \u001b[1m19s\u001b[0m 39ms/step - accuracy: 0.2295 - loss: 2.2400 - val_accuracy: 0.7087 - val_loss: 37.4953\n",
      "Epoch 2/5\n",
      "\u001b[1m469/469\u001b[0m \u001b[32m━━━━━━━━━━━━━━━━━━━━\u001b[0m\u001b[37m\u001b[0m \u001b[1m18s\u001b[0m 38ms/step - accuracy: 0.5963 - loss: 1.2224 - val_accuracy: 0.8553 - val_loss: 43.1014\n",
      "Epoch 3/5\n",
      "\u001b[1m469/469\u001b[0m \u001b[32m━━━━━━━━━━━━━━━━━━━━\u001b[0m\u001b[37m\u001b[0m \u001b[1m19s\u001b[0m 40ms/step - accuracy: 0.7684 - loss: 0.7124 - val_accuracy: 0.8979 - val_loss: 35.3945\n",
      "Epoch 4/5\n",
      "\u001b[1m469/469\u001b[0m \u001b[32m━━━━━━━━━━━━━━━━━━━━\u001b[0m\u001b[37m\u001b[0m \u001b[1m19s\u001b[0m 41ms/step - accuracy: 0.8319 - loss: 0.5275 - val_accuracy: 0.9163 - val_loss: 29.5638\n",
      "Epoch 5/5\n",
      "\u001b[1m469/469\u001b[0m \u001b[32m━━━━━━━━━━━━━━━━━━━━\u001b[0m\u001b[37m\u001b[0m \u001b[1m21s\u001b[0m 46ms/step - accuracy: 0.8608 - loss: 0.4493 - val_accuracy: 0.9272 - val_loss: 27.4593\n"
     ]
    },
    {
     "data": {
      "text/plain": [
       "<keras.src.callbacks.history.History at 0x3197a57f0>"
      ]
     },
     "execution_count": 34,
     "metadata": {},
     "output_type": "execute_result"
    }
   ],
   "source": [
    "classificador.fit(base_train, epochs=5, validation_data=base_test)"
   ]
  },
  {
   "cell_type": "code",
   "execution_count": null,
   "id": "d826c491-56d6-4bb3-b31a-38f37ab63133",
   "metadata": {},
   "outputs": [],
   "source": []
  }
 ],
 "metadata": {
  "kernelspec": {
   "display_name": "Python [conda env:base] *",
   "language": "python",
   "name": "conda-base-py"
  },
  "language_info": {
   "codemirror_mode": {
    "name": "ipython",
    "version": 3
   },
   "file_extension": ".py",
   "mimetype": "text/x-python",
   "name": "python",
   "nbconvert_exporter": "python",
   "pygments_lexer": "ipython3",
   "version": "3.12.7"
  }
 },
 "nbformat": 4,
 "nbformat_minor": 5
}
