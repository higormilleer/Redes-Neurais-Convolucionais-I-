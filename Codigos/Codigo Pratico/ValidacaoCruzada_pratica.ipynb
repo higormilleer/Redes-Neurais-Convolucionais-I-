{
 "cells": [
  {
   "cell_type": "code",
   "execution_count": 1,
   "id": "ca29a24e-b6d1-4a4a-9593-321cdb25da90",
   "metadata": {},
   "outputs": [],
   "source": [
    "import numpy as np \n",
    "import tensorflow as tf\n",
    "import keras\n",
    "import matplotlib\n",
    "from tensorflow.keras.datasets import mnist\n",
    "from tensorflow.keras.models import Sequential\n",
    "from tensorflow.keras.layers import InputLayer, Dense, Flatten, Dropout, Conv2D, MaxPooling2D\n",
    "from tensorflow.keras import utils as np_utils\n",
    "import numpy as np\n",
    "from sklearn.model_selection import StratifiedKFold"
   ]
  },
  {
   "cell_type": "code",
   "execution_count": 2,
   "id": "1f0eef8f-0ad8-4d07-bcfd-ab406b4f8cca",
   "metadata": {},
   "outputs": [],
   "source": [
    "(x,y), (x_test, y_test) = mnist.load_data()\n",
    "x=x.reshape(x.shape[0],28,28,1)\n",
    "x=x.astype(\"float32\")\n",
    "x/=255\n",
    "y = np_utils.to_categorical(y,10)"
   ]
  },
  {
   "cell_type": "code",
   "execution_count": 3,
   "id": "b96c7c4e-976a-4282-b2d2-3a35704fa914",
   "metadata": {},
   "outputs": [],
   "source": [
    "seed = 5\n",
    "np.random.seed(seed)"
   ]
  },
  {
   "cell_type": "code",
   "execution_count": 4,
   "id": "a4f574ba-ad36-49fe-88b4-8b2f690c9024",
   "metadata": {},
   "outputs": [],
   "source": [
    "kfold = StratifiedKFold(n_splits = 5, shuffle = True, random_state = seed) #como cv, divisao de partes, dados embaralhados para nao acostumar a rede neural"
   ]
  },
  {
   "cell_type": "code",
   "execution_count": 5,
   "id": "59ebfe10-66a6-4e8a-abfa-ed48cb57d8f2",
   "metadata": {},
   "outputs": [
    {
     "name": "stdout",
     "output_type": "stream",
     "text": [
      "Índices Train: [0 1 2 3 5]...  |  Índices Test: [ 4  6  7 32 34]...\n",
      "Epoch 1/5\n",
      "\u001b[1m375/375\u001b[0m \u001b[32m━━━━━━━━━━━━━━━━━━━━\u001b[0m\u001b[37m\u001b[0m \u001b[1m10s\u001b[0m 25ms/step - accuracy: 0.8127 - loss: 0.6035\n",
      "Epoch 2/5\n",
      "\u001b[1m375/375\u001b[0m \u001b[32m━━━━━━━━━━━━━━━━━━━━\u001b[0m\u001b[37m\u001b[0m \u001b[1m11s\u001b[0m 28ms/step - accuracy: 0.9751 - loss: 0.0851\n",
      "Epoch 3/5\n",
      "\u001b[1m375/375\u001b[0m \u001b[32m━━━━━━━━━━━━━━━━━━━━\u001b[0m\u001b[37m\u001b[0m \u001b[1m11s\u001b[0m 29ms/step - accuracy: 0.9831 - loss: 0.0557\n",
      "Epoch 4/5\n",
      "\u001b[1m375/375\u001b[0m \u001b[32m━━━━━━━━━━━━━━━━━━━━\u001b[0m\u001b[37m\u001b[0m \u001b[1m11s\u001b[0m 30ms/step - accuracy: 0.9859 - loss: 0.0438\n",
      "Epoch 5/5\n",
      "\u001b[1m375/375\u001b[0m \u001b[32m━━━━━━━━━━━━━━━━━━━━\u001b[0m\u001b[37m\u001b[0m \u001b[1m14s\u001b[0m 38ms/step - accuracy: 0.9888 - loss: 0.0359\n",
      "Precisão no Fold: 0.9895\n",
      "Índices Train: [2 3 4 5 6]...  |  Índices Test: [ 0  1 11 13 17]...\n",
      "Epoch 1/5\n",
      "\u001b[1m375/375\u001b[0m \u001b[32m━━━━━━━━━━━━━━━━━━━━\u001b[0m\u001b[37m\u001b[0m \u001b[1m21s\u001b[0m 55ms/step - accuracy: 0.8090 - loss: 0.6148\n",
      "Epoch 2/5\n",
      "\u001b[1m375/375\u001b[0m \u001b[32m━━━━━━━━━━━━━━━━━━━━\u001b[0m\u001b[37m\u001b[0m \u001b[1m25s\u001b[0m 67ms/step - accuracy: 0.9757 - loss: 0.0798\n",
      "Epoch 3/5\n",
      "\u001b[1m375/375\u001b[0m \u001b[32m━━━━━━━━━━━━━━━━━━━━\u001b[0m\u001b[37m\u001b[0m \u001b[1m37s\u001b[0m 55ms/step - accuracy: 0.9828 - loss: 0.0541\n",
      "Epoch 4/5\n",
      "\u001b[1m375/375\u001b[0m \u001b[32m━━━━━━━━━━━━━━━━━━━━\u001b[0m\u001b[37m\u001b[0m \u001b[1m19s\u001b[0m 50ms/step - accuracy: 0.9868 - loss: 0.0406\n",
      "Epoch 5/5\n",
      "\u001b[1m375/375\u001b[0m \u001b[32m━━━━━━━━━━━━━━━━━━━━\u001b[0m\u001b[37m\u001b[0m \u001b[1m20s\u001b[0m 53ms/step - accuracy: 0.9902 - loss: 0.0317\n",
      "Precisão no Fold: 0.9891\n",
      "Índices Train: [0 1 2 4 5]...  |  Índices Test: [ 3  8 14 25 29]...\n",
      "Epoch 1/5\n",
      "\u001b[1m375/375\u001b[0m \u001b[32m━━━━━━━━━━━━━━━━━━━━\u001b[0m\u001b[37m\u001b[0m \u001b[1m21s\u001b[0m 54ms/step - accuracy: 0.8152 - loss: 0.5995\n",
      "Epoch 2/5\n",
      "\u001b[1m375/375\u001b[0m \u001b[32m━━━━━━━━━━━━━━━━━━━━\u001b[0m\u001b[37m\u001b[0m \u001b[1m20s\u001b[0m 54ms/step - accuracy: 0.9751 - loss: 0.0823\n",
      "Epoch 3/5\n",
      "\u001b[1m375/375\u001b[0m \u001b[32m━━━━━━━━━━━━━━━━━━━━\u001b[0m\u001b[37m\u001b[0m \u001b[1m21s\u001b[0m 57ms/step - accuracy: 0.9840 - loss: 0.0518\n",
      "Epoch 4/5\n",
      "\u001b[1m375/375\u001b[0m \u001b[32m━━━━━━━━━━━━━━━━━━━━\u001b[0m\u001b[37m\u001b[0m \u001b[1m19s\u001b[0m 51ms/step - accuracy: 0.9889 - loss: 0.0364\n",
      "Epoch 5/5\n",
      "\u001b[1m375/375\u001b[0m \u001b[32m━━━━━━━━━━━━━━━━━━━━\u001b[0m\u001b[37m\u001b[0m \u001b[1m22s\u001b[0m 60ms/step - accuracy: 0.9904 - loss: 0.0311\n",
      "Precisão no Fold: 0.9883\n",
      "Índices Train: [0 1 2 3 4]...  |  Índices Test: [ 5 15 18 19 20]...\n",
      "Epoch 1/5\n",
      "\u001b[1m375/375\u001b[0m \u001b[32m━━━━━━━━━━━━━━━━━━━━\u001b[0m\u001b[37m\u001b[0m \u001b[1m37s\u001b[0m 95ms/step - accuracy: 0.8320 - loss: 0.5461\n",
      "Epoch 2/5\n",
      "\u001b[1m375/375\u001b[0m \u001b[32m━━━━━━━━━━━━━━━━━━━━\u001b[0m\u001b[37m\u001b[0m \u001b[1m32s\u001b[0m 86ms/step - accuracy: 0.9765 - loss: 0.0788\n",
      "Epoch 3/5\n",
      "\u001b[1m375/375\u001b[0m \u001b[32m━━━━━━━━━━━━━━━━━━━━\u001b[0m\u001b[37m\u001b[0m \u001b[1m34s\u001b[0m 90ms/step - accuracy: 0.9843 - loss: 0.0497\n",
      "Epoch 4/5\n",
      "\u001b[1m375/375\u001b[0m \u001b[32m━━━━━━━━━━━━━━━━━━━━\u001b[0m\u001b[37m\u001b[0m \u001b[1m33s\u001b[0m 88ms/step - accuracy: 0.9876 - loss: 0.0389\n",
      "Epoch 5/5\n",
      "\u001b[1m375/375\u001b[0m \u001b[32m━━━━━━━━━━━━━━━━━━━━\u001b[0m\u001b[37m\u001b[0m \u001b[1m27s\u001b[0m 71ms/step - accuracy: 0.9911 - loss: 0.0293\n",
      "Precisão no Fold: 0.9877\n",
      "Índices Train: [0 1 3 4 5]...  |  Índices Test: [ 2  9 10 12 16]...\n",
      "Epoch 1/5\n",
      "\u001b[1m375/375\u001b[0m \u001b[32m━━━━━━━━━━━━━━━━━━━━\u001b[0m\u001b[37m\u001b[0m \u001b[1m28s\u001b[0m 71ms/step - accuracy: 0.8238 - loss: 0.5676\n",
      "Epoch 2/5\n",
      "\u001b[1m375/375\u001b[0m \u001b[32m━━━━━━━━━━━━━━━━━━━━\u001b[0m\u001b[37m\u001b[0m \u001b[1m44s\u001b[0m 79ms/step - accuracy: 0.9750 - loss: 0.0810\n",
      "Epoch 3/5\n",
      "\u001b[1m375/375\u001b[0m \u001b[32m━━━━━━━━━━━━━━━━━━━━\u001b[0m\u001b[37m\u001b[0m \u001b[1m31s\u001b[0m 83ms/step - accuracy: 0.9830 - loss: 0.0538\n",
      "Epoch 4/5\n",
      "\u001b[1m375/375\u001b[0m \u001b[32m━━━━━━━━━━━━━━━━━━━━\u001b[0m\u001b[37m\u001b[0m \u001b[1m30s\u001b[0m 81ms/step - accuracy: 0.9871 - loss: 0.0397\n",
      "Epoch 5/5\n",
      "\u001b[1m375/375\u001b[0m \u001b[32m━━━━━━━━━━━━━━━━━━━━\u001b[0m\u001b[37m\u001b[0m \u001b[1m35s\u001b[0m 95ms/step - accuracy: 0.9898 - loss: 0.0328\n",
      "Precisão no Fold: 0.9868\n",
      "Precisão média nos folds: 0.9883\n"
     ]
    }
   ],
   "source": [
    "from sklearn.model_selection import KFold\n",
    "import numpy as np\n",
    "from keras.models import Sequential\n",
    "from keras.layers import InputLayer, Conv2D, MaxPooling2D, Flatten, Dense, Dropout\n",
    "from keras.optimizers import Adam\n",
    "\n",
    "# Resultados da precisão de cada fold\n",
    "resultados = []\n",
    "\n",
    "# Definindo o KFold (n_splits=5 para 5 divisões)\n",
    "kfold = KFold(n_splits=5, shuffle=True, random_state=42)\n",
    "\n",
    "# Loop de cross-validation\n",
    "for indice_train, indice_test in kfold.split(x, y):  # Divisão dos dados\n",
    "    print(f\"Índices Train: {indice_train[:5]}...  |  Índices Test: {indice_test[:5]}...\")  # Mostrando os primeiros indices para conferirmos\n",
    "    classificador = Sequential()\n",
    "    \n",
    "    # Camada de entrada\n",
    "    classificador.add(InputLayer(shape=(28, 28, 1)))  # Alterado para `shape` em vez de `input_shape`\n",
    "    \n",
    "    # Primeira camada convolucional\n",
    "    classificador.add(Conv2D(32, (3, 3), activation='relu', padding='same'))\n",
    "    classificador.add(MaxPooling2D(pool_size=(2, 2)))\n",
    "    \n",
    "    # Segunda camada convolucional\n",
    "    classificador.add(Conv2D(64, (3, 3), activation='relu', padding='same'))\n",
    "    classificador.add(MaxPooling2D(pool_size=(2, 2)))\n",
    "    \n",
    "    # Flatten a saída da última camada convolucional\n",
    "    classificador.add(Flatten())\n",
    "    \n",
    "    # Camada densa com Dropout\n",
    "    classificador.add(Dense(units=128, activation='relu'))\n",
    "    classificador.add(Dropout(0.3))  # Dropout para prevenir overfitting\n",
    "    \n",
    "    # Camada de saída\n",
    "    classificador.add(Dense(units=10, activation='softmax'))\n",
    "    \n",
    "    # Compilação do modelo\n",
    "    classificador.compile(loss='categorical_crossentropy', \n",
    "                          optimizer=Adam(learning_rate=0.001), \n",
    "                          metrics=['accuracy'])\n",
    "    \n",
    "    # Treinando o modelo\n",
    "    classificador.fit(x[indice_train], y[indice_train], batch_size=128, epochs=5, verbose=1)\n",
    "    \n",
    "    # Avaliando o modelo no conjunto de teste\n",
    "    precisao = classificador.evaluate(x[indice_test], y[indice_test], verbose=0)\n",
    "    \n",
    "    # Imprimindo a precisão para o fold atual\n",
    "    print(f\"Precisão no Fold: {precisao[1]:.4f}\")\n",
    "    \n",
    "    # Adicionando a precisão ao resultado\n",
    "    resultados.append(precisao[1])\n",
    "\n",
    "# Calculando a média da precisão dos folds\n",
    "media_precisao = np.mean(resultados)\n",
    "print(f\"Precisão média nos folds: {media_precisao:.4f}\")\n"
   ]
  },
  {
   "cell_type": "code",
   "execution_count": 10,
   "id": "d630ecf9-6254-4a6a-9cca-0a67699867e4",
   "metadata": {},
   "outputs": [
    {
     "data": {
      "text/plain": [
       "0.9883000016212463"
      ]
     },
     "execution_count": 10,
     "metadata": {},
     "output_type": "execute_result"
    }
   ],
   "source": [
    "np.array(resultados).mean()"
   ]
  },
  {
   "cell_type": "code",
   "execution_count": 11,
   "id": "28c5405e-9d03-4b79-9c32-e0b2bf138a9c",
   "metadata": {},
   "outputs": [
    {
     "data": {
      "text/plain": [
       "0.0009495611081096058"
      ]
     },
     "execution_count": 11,
     "metadata": {},
     "output_type": "execute_result"
    }
   ],
   "source": [
    "np.array(resultados).std() #desvio padrao baixo = confiavel"
   ]
  },
  {
   "cell_type": "code",
   "execution_count": 12,
   "id": "bc31331d-4cd0-48ab-ae11-6f01be4a3884",
   "metadata": {},
   "outputs": [
    {
     "data": {
      "text/plain": [
       "[0.9894999861717224,\n",
       " 0.9890833497047424,\n",
       " 0.9883333444595337,\n",
       " 0.9877499938011169,\n",
       " 0.9868333339691162]"
      ]
     },
     "execution_count": 12,
     "metadata": {},
     "output_type": "execute_result"
    }
   ],
   "source": [
    "resultados"
   ]
  },
  {
   "cell_type": "code",
   "execution_count": null,
   "id": "ef7945f0-cc66-414a-85aa-637bb5206729",
   "metadata": {},
   "outputs": [],
   "source": []
  }
 ],
 "metadata": {
  "kernelspec": {
   "display_name": "Python [conda env:base] *",
   "language": "python",
   "name": "conda-base-py"
  },
  "language_info": {
   "codemirror_mode": {
    "name": "ipython",
    "version": 3
   },
   "file_extension": ".py",
   "mimetype": "text/x-python",
   "name": "python",
   "nbconvert_exporter": "python",
   "pygments_lexer": "ipython3",
   "version": "3.12.7"
  }
 },
 "nbformat": 4,
 "nbformat_minor": 5
}
